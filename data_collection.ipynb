{
 "cells": [
  {
   "cell_type": "markdown",
   "metadata": {
    "id": "qw7QwZJc3l4d"
   },
   "source": [
    "## **Data Collection**"
   ]
  },
  {
   "cell_type": "code",
   "execution_count": 12,
   "metadata": {
    "id": "D2FCkwLyq5Xe"
   },
   "outputs": [],
   "source": [
    "import requests\n",
    "import pandas as pd\n",
    "import json\n",
    "from lxml import etree\n",
    "import numpy as np\n",
    "import zipfile\n",
    "import os\n",
    "from bs4 import BeautifulSoup\n"
   ]
  },
  {
   "cell_type": "code",
   "execution_count": 13,
   "metadata": {
    "id": "XBVAc0B28yF6"
   },
   "outputs": [],
   "source": [
    "# create a folder to serve for store data\n",
    "folder = \"data\"\n",
    "os.makedirs(folder, exist_ok=True)"
   ]
  },
  {
   "cell_type": "markdown",
   "metadata": {
    "id": "-Wwhftgk3btG"
   },
   "source": [
    "### **1. Crawl from website Tatoeba**"
   ]
  },
  {
   "cell_type": "markdown",
   "metadata": {
    "id": "OfJLCIDk4Y2-"
   },
   "source": [
    "Source: https://tatoeba.org/"
   ]
  },
  {
   "cell_type": "code",
   "execution_count": null,
   "metadata": {
    "id": "_DT1rdiuZOw0"
   },
   "outputs": [],
   "source": [
    "\n",
    "def crawl_data(leng_min=1, page_max=100):\n",
    "    engs, vies = [], []\n",
    "\n",
    "    for page in range(1, page_max + 1):\n",
    "        try:\n",
    "            url = \"https://tatoeba.org/vi/api_v0/search?from=eng&to=vie&trans_filter=limit&trans_to=vie&page={}&word_count_max=&word_count_min={}\".format(page, leng_min)\n",
    "            response = requests.get(url)\n",
    "\n",
    "            if response.status_code == 200:\n",
    "              data = response.json()\n",
    "              for item in data.get('results', []):\n",
    "                  english = item['text']\n",
    "                  engs.append(english)\n",
    "\n",
    "                  translations = item.get('translations', [])\n",
    "                  vietnamese_translations = []\n",
    "\n",
    "                  for sublist in translations:\n",
    "                      for trans in sublist:\n",
    "                          if trans['lang'] == 'vie':\n",
    "                              vietnamese_translations.append(trans['text'])\n",
    "\n",
    "                  if vietnamese_translations:\n",
    "                      longest_vi = min(vietnamese_translations, key=len)\n",
    "                      vies.append(longest_vi)\n",
    "\n",
    "        except Exception as e:\n",
    "            print(f\"Error on page {page}: {e}\")\n",
    "\n",
    "    return engs, vies"
   ]
  },
  {
   "cell_type": "code",
   "execution_count": null,
   "metadata": {
    "colab": {
     "base_uri": "https://localhost:8080/",
     "height": 510
    },
    "id": "AU3SaGoElKc8",
    "outputId": "32f1ad93-cd96-4289-b505-775deab3d5b3"
   },
   "outputs": [
    {
     "data": {
      "application/vnd.google.colaboratory.intrinsic+json": {
       "summary": "{\n  \"name\": \"df\",\n  \"rows\": 15861,\n  \"fields\": [\n    {\n      \"column\": \"English\",\n      \"properties\": {\n        \"dtype\": \"string\",\n        \"num_unique_values\": 10861,\n        \"samples\": [\n          \"Traitor!\",\n          \"This book isn't as heavy as that one.\",\n          \"You didn't actually want to go to Boston, did you?\"\n        ],\n        \"semantic_type\": \"\",\n        \"description\": \"\"\n      }\n    },\n    {\n      \"column\": \"Vietnamese\",\n      \"properties\": {\n        \"dtype\": \"string\",\n        \"num_unique_values\": 9233,\n        \"samples\": [\n          \"Kh\\u00f4ng h\\u00fat thu\\u1ed1c l\\u00e0 quy \\u0111\\u1ecbnh c\\u1ee7a c\\u00f4ng ty.\",\n          \"Anh \\u1ea5y l\\u00e0 m\\u1ed9t ng\\u01b0\\u1eddi l\\u00ednh.\",\n          \"T\\u00f4i mong l\\u00e0 kinh t\\u1ebf s\\u1ebd s\\u1edbm ph\\u1ee5c h\\u1ed3i.\"\n        ],\n        \"semantic_type\": \"\",\n        \"description\": \"\"\n      }\n    }\n  ]\n}",
       "type": "dataframe",
       "variable_name": "df"
      },
      "text/html": [
       "\n",
       "  <div id=\"df-064575ba-1639-48d0-b2e1-bf053875d8e1\" class=\"colab-df-container\">\n",
       "    <div>\n",
       "<style scoped>\n",
       "    .dataframe tbody tr th:only-of-type {\n",
       "        vertical-align: middle;\n",
       "    }\n",
       "\n",
       "    .dataframe tbody tr th {\n",
       "        vertical-align: top;\n",
       "    }\n",
       "\n",
       "    .dataframe thead th {\n",
       "        text-align: right;\n",
       "    }\n",
       "</style>\n",
       "<table border=\"1\" class=\"dataframe\">\n",
       "  <thead>\n",
       "    <tr style=\"text-align: right;\">\n",
       "      <th></th>\n",
       "      <th>English</th>\n",
       "      <th>Vietnamese</th>\n",
       "    </tr>\n",
       "  </thead>\n",
       "  <tbody>\n",
       "    <tr>\n",
       "      <th>0</th>\n",
       "      <td>Hmm?</td>\n",
       "      <td>Hử?</td>\n",
       "    </tr>\n",
       "    <tr>\n",
       "      <th>1</th>\n",
       "      <td>Translate.</td>\n",
       "      <td>Dịch.</td>\n",
       "    </tr>\n",
       "    <tr>\n",
       "      <th>2</th>\n",
       "      <td>Faster.</td>\n",
       "      <td>Nhanh hơn.</td>\n",
       "    </tr>\n",
       "    <tr>\n",
       "      <th>3</th>\n",
       "      <td>Kiss!</td>\n",
       "      <td>Hôn đi!</td>\n",
       "    </tr>\n",
       "    <tr>\n",
       "      <th>4</th>\n",
       "      <td>Please...</td>\n",
       "      <td>Đi mà...</td>\n",
       "    </tr>\n",
       "    <tr>\n",
       "      <th>...</th>\n",
       "      <td>...</td>\n",
       "      <td>...</td>\n",
       "    </tr>\n",
       "    <tr>\n",
       "      <th>15856</th>\n",
       "      <td>My friend from university gave me a Kindle bec...</td>\n",
       "      <td>Một người bạn thời đại học đã cho tôi một cái ...</td>\n",
       "    </tr>\n",
       "    <tr>\n",
       "      <th>15857</th>\n",
       "      <td>In all the work I have done as President—every...</td>\n",
       "      <td>Trong tất cả những công việc mà tôi đã làm với...</td>\n",
       "    </tr>\n",
       "    <tr>\n",
       "      <th>15858</th>\n",
       "      <td>The 26th of September is the European Day of L...</td>\n",
       "      <td>Ngày 26 tháng chín là ngày Ngôn ngữ của Châu Â...</td>\n",
       "    </tr>\n",
       "    <tr>\n",
       "      <th>15859</th>\n",
       "      <td>While the Kabyle people were fighting French c...</td>\n",
       "      <td>Trong lúc những người Kabyle đang chiến đấu vớ...</td>\n",
       "    </tr>\n",
       "    <tr>\n",
       "      <th>15860</th>\n",
       "      <td>A person with second-level intelligence is a p...</td>\n",
       "      <td>Người có trí tuệ tầng bậc 2 là người có trạng ...</td>\n",
       "    </tr>\n",
       "  </tbody>\n",
       "</table>\n",
       "<p>15861 rows × 2 columns</p>\n",
       "</div>\n",
       "    <div class=\"colab-df-buttons\">\n",
       "\n",
       "  <div class=\"colab-df-container\">\n",
       "    <button class=\"colab-df-convert\" onclick=\"convertToInteractive('df-064575ba-1639-48d0-b2e1-bf053875d8e1')\"\n",
       "            title=\"Convert this dataframe to an interactive table.\"\n",
       "            style=\"display:none;\">\n",
       "\n",
       "  <svg xmlns=\"http://www.w3.org/2000/svg\" height=\"24px\" viewBox=\"0 -960 960 960\">\n",
       "    <path d=\"M120-120v-720h720v720H120Zm60-500h600v-160H180v160Zm220 220h160v-160H400v160Zm0 220h160v-160H400v160ZM180-400h160v-160H180v160Zm440 0h160v-160H620v160ZM180-180h160v-160H180v160Zm440 0h160v-160H620v160Z\"/>\n",
       "  </svg>\n",
       "    </button>\n",
       "\n",
       "  <style>\n",
       "    .colab-df-container {\n",
       "      display:flex;\n",
       "      gap: 12px;\n",
       "    }\n",
       "\n",
       "    .colab-df-convert {\n",
       "      background-color: #E8F0FE;\n",
       "      border: none;\n",
       "      border-radius: 50%;\n",
       "      cursor: pointer;\n",
       "      display: none;\n",
       "      fill: #1967D2;\n",
       "      height: 32px;\n",
       "      padding: 0 0 0 0;\n",
       "      width: 32px;\n",
       "    }\n",
       "\n",
       "    .colab-df-convert:hover {\n",
       "      background-color: #E2EBFA;\n",
       "      box-shadow: 0px 1px 2px rgba(60, 64, 67, 0.3), 0px 1px 3px 1px rgba(60, 64, 67, 0.15);\n",
       "      fill: #174EA6;\n",
       "    }\n",
       "\n",
       "    .colab-df-buttons div {\n",
       "      margin-bottom: 4px;\n",
       "    }\n",
       "\n",
       "    [theme=dark] .colab-df-convert {\n",
       "      background-color: #3B4455;\n",
       "      fill: #D2E3FC;\n",
       "    }\n",
       "\n",
       "    [theme=dark] .colab-df-convert:hover {\n",
       "      background-color: #434B5C;\n",
       "      box-shadow: 0px 1px 3px 1px rgba(0, 0, 0, 0.15);\n",
       "      filter: drop-shadow(0px 1px 2px rgba(0, 0, 0, 0.3));\n",
       "      fill: #FFFFFF;\n",
       "    }\n",
       "  </style>\n",
       "\n",
       "    <script>\n",
       "      const buttonEl =\n",
       "        document.querySelector('#df-064575ba-1639-48d0-b2e1-bf053875d8e1 button.colab-df-convert');\n",
       "      buttonEl.style.display =\n",
       "        google.colab.kernel.accessAllowed ? 'block' : 'none';\n",
       "\n",
       "      async function convertToInteractive(key) {\n",
       "        const element = document.querySelector('#df-064575ba-1639-48d0-b2e1-bf053875d8e1');\n",
       "        const dataTable =\n",
       "          await google.colab.kernel.invokeFunction('convertToInteractive',\n",
       "                                                    [key], {});\n",
       "        if (!dataTable) return;\n",
       "\n",
       "        const docLinkHtml = 'Like what you see? Visit the ' +\n",
       "          '<a target=\"_blank\" href=https://colab.research.google.com/notebooks/data_table.ipynb>data table notebook</a>'\n",
       "          + ' to learn more about interactive tables.';\n",
       "        element.innerHTML = '';\n",
       "        dataTable['output_type'] = 'display_data';\n",
       "        await google.colab.output.renderOutput(dataTable, element);\n",
       "        const docLink = document.createElement('div');\n",
       "        docLink.innerHTML = docLinkHtml;\n",
       "        element.appendChild(docLink);\n",
       "      }\n",
       "    </script>\n",
       "  </div>\n",
       "\n",
       "\n",
       "    <div id=\"df-4019cd4d-656d-4b59-a9a7-06e0ccbfbaa2\">\n",
       "      <button class=\"colab-df-quickchart\" onclick=\"quickchart('df-4019cd4d-656d-4b59-a9a7-06e0ccbfbaa2')\"\n",
       "                title=\"Suggest charts\"\n",
       "                style=\"display:none;\">\n",
       "\n",
       "<svg xmlns=\"http://www.w3.org/2000/svg\" height=\"24px\"viewBox=\"0 0 24 24\"\n",
       "     width=\"24px\">\n",
       "    <g>\n",
       "        <path d=\"M19 3H5c-1.1 0-2 .9-2 2v14c0 1.1.9 2 2 2h14c1.1 0 2-.9 2-2V5c0-1.1-.9-2-2-2zM9 17H7v-7h2v7zm4 0h-2V7h2v10zm4 0h-2v-4h2v4z\"/>\n",
       "    </g>\n",
       "</svg>\n",
       "      </button>\n",
       "\n",
       "<style>\n",
       "  .colab-df-quickchart {\n",
       "      --bg-color: #E8F0FE;\n",
       "      --fill-color: #1967D2;\n",
       "      --hover-bg-color: #E2EBFA;\n",
       "      --hover-fill-color: #174EA6;\n",
       "      --disabled-fill-color: #AAA;\n",
       "      --disabled-bg-color: #DDD;\n",
       "  }\n",
       "\n",
       "  [theme=dark] .colab-df-quickchart {\n",
       "      --bg-color: #3B4455;\n",
       "      --fill-color: #D2E3FC;\n",
       "      --hover-bg-color: #434B5C;\n",
       "      --hover-fill-color: #FFFFFF;\n",
       "      --disabled-bg-color: #3B4455;\n",
       "      --disabled-fill-color: #666;\n",
       "  }\n",
       "\n",
       "  .colab-df-quickchart {\n",
       "    background-color: var(--bg-color);\n",
       "    border: none;\n",
       "    border-radius: 50%;\n",
       "    cursor: pointer;\n",
       "    display: none;\n",
       "    fill: var(--fill-color);\n",
       "    height: 32px;\n",
       "    padding: 0;\n",
       "    width: 32px;\n",
       "  }\n",
       "\n",
       "  .colab-df-quickchart:hover {\n",
       "    background-color: var(--hover-bg-color);\n",
       "    box-shadow: 0 1px 2px rgba(60, 64, 67, 0.3), 0 1px 3px 1px rgba(60, 64, 67, 0.15);\n",
       "    fill: var(--button-hover-fill-color);\n",
       "  }\n",
       "\n",
       "  .colab-df-quickchart-complete:disabled,\n",
       "  .colab-df-quickchart-complete:disabled:hover {\n",
       "    background-color: var(--disabled-bg-color);\n",
       "    fill: var(--disabled-fill-color);\n",
       "    box-shadow: none;\n",
       "  }\n",
       "\n",
       "  .colab-df-spinner {\n",
       "    border: 2px solid var(--fill-color);\n",
       "    border-color: transparent;\n",
       "    border-bottom-color: var(--fill-color);\n",
       "    animation:\n",
       "      spin 1s steps(1) infinite;\n",
       "  }\n",
       "\n",
       "  @keyframes spin {\n",
       "    0% {\n",
       "      border-color: transparent;\n",
       "      border-bottom-color: var(--fill-color);\n",
       "      border-left-color: var(--fill-color);\n",
       "    }\n",
       "    20% {\n",
       "      border-color: transparent;\n",
       "      border-left-color: var(--fill-color);\n",
       "      border-top-color: var(--fill-color);\n",
       "    }\n",
       "    30% {\n",
       "      border-color: transparent;\n",
       "      border-left-color: var(--fill-color);\n",
       "      border-top-color: var(--fill-color);\n",
       "      border-right-color: var(--fill-color);\n",
       "    }\n",
       "    40% {\n",
       "      border-color: transparent;\n",
       "      border-right-color: var(--fill-color);\n",
       "      border-top-color: var(--fill-color);\n",
       "    }\n",
       "    60% {\n",
       "      border-color: transparent;\n",
       "      border-right-color: var(--fill-color);\n",
       "    }\n",
       "    80% {\n",
       "      border-color: transparent;\n",
       "      border-right-color: var(--fill-color);\n",
       "      border-bottom-color: var(--fill-color);\n",
       "    }\n",
       "    90% {\n",
       "      border-color: transparent;\n",
       "      border-bottom-color: var(--fill-color);\n",
       "    }\n",
       "  }\n",
       "</style>\n",
       "\n",
       "      <script>\n",
       "        async function quickchart(key) {\n",
       "          const quickchartButtonEl =\n",
       "            document.querySelector('#' + key + ' button');\n",
       "          quickchartButtonEl.disabled = true;  // To prevent multiple clicks.\n",
       "          quickchartButtonEl.classList.add('colab-df-spinner');\n",
       "          try {\n",
       "            const charts = await google.colab.kernel.invokeFunction(\n",
       "                'suggestCharts', [key], {});\n",
       "          } catch (error) {\n",
       "            console.error('Error during call to suggestCharts:', error);\n",
       "          }\n",
       "          quickchartButtonEl.classList.remove('colab-df-spinner');\n",
       "          quickchartButtonEl.classList.add('colab-df-quickchart-complete');\n",
       "        }\n",
       "        (() => {\n",
       "          let quickchartButtonEl =\n",
       "            document.querySelector('#df-4019cd4d-656d-4b59-a9a7-06e0ccbfbaa2 button');\n",
       "          quickchartButtonEl.style.display =\n",
       "            google.colab.kernel.accessAllowed ? 'block' : 'none';\n",
       "        })();\n",
       "      </script>\n",
       "    </div>\n",
       "\n",
       "  <div id=\"id_e7bd904e-0ce0-4d7d-a61a-605b18849dfc\">\n",
       "    <style>\n",
       "      .colab-df-generate {\n",
       "        background-color: #E8F0FE;\n",
       "        border: none;\n",
       "        border-radius: 50%;\n",
       "        cursor: pointer;\n",
       "        display: none;\n",
       "        fill: #1967D2;\n",
       "        height: 32px;\n",
       "        padding: 0 0 0 0;\n",
       "        width: 32px;\n",
       "      }\n",
       "\n",
       "      .colab-df-generate:hover {\n",
       "        background-color: #E2EBFA;\n",
       "        box-shadow: 0px 1px 2px rgba(60, 64, 67, 0.3), 0px 1px 3px 1px rgba(60, 64, 67, 0.15);\n",
       "        fill: #174EA6;\n",
       "      }\n",
       "\n",
       "      [theme=dark] .colab-df-generate {\n",
       "        background-color: #3B4455;\n",
       "        fill: #D2E3FC;\n",
       "      }\n",
       "\n",
       "      [theme=dark] .colab-df-generate:hover {\n",
       "        background-color: #434B5C;\n",
       "        box-shadow: 0px 1px 3px 1px rgba(0, 0, 0, 0.15);\n",
       "        filter: drop-shadow(0px 1px 2px rgba(0, 0, 0, 0.3));\n",
       "        fill: #FFFFFF;\n",
       "      }\n",
       "    </style>\n",
       "    <button class=\"colab-df-generate\" onclick=\"generateWithVariable('df')\"\n",
       "            title=\"Generate code using this dataframe.\"\n",
       "            style=\"display:none;\">\n",
       "\n",
       "  <svg xmlns=\"http://www.w3.org/2000/svg\" height=\"24px\"viewBox=\"0 0 24 24\"\n",
       "       width=\"24px\">\n",
       "    <path d=\"M7,19H8.4L18.45,9,17,7.55,7,17.6ZM5,21V16.75L18.45,3.32a2,2,0,0,1,2.83,0l1.4,1.43a1.91,1.91,0,0,1,.58,1.4,1.91,1.91,0,0,1-.58,1.4L9.25,21ZM18.45,9,17,7.55Zm-12,3A5.31,5.31,0,0,0,4.9,8.1,5.31,5.31,0,0,0,1,6.5,5.31,5.31,0,0,0,4.9,4.9,5.31,5.31,0,0,0,6.5,1,5.31,5.31,0,0,0,8.1,4.9,5.31,5.31,0,0,0,12,6.5,5.46,5.46,0,0,0,6.5,12Z\"/>\n",
       "  </svg>\n",
       "    </button>\n",
       "    <script>\n",
       "      (() => {\n",
       "      const buttonEl =\n",
       "        document.querySelector('#id_e7bd904e-0ce0-4d7d-a61a-605b18849dfc button.colab-df-generate');\n",
       "      buttonEl.style.display =\n",
       "        google.colab.kernel.accessAllowed ? 'block' : 'none';\n",
       "\n",
       "      buttonEl.onclick = () => {\n",
       "        google.colab.notebook.generateWithVariable('df');\n",
       "      }\n",
       "      })();\n",
       "    </script>\n",
       "  </div>\n",
       "\n",
       "    </div>\n",
       "  </div>\n"
      ],
      "text/plain": [
       "                                                 English  \\\n",
       "0                                                   Hmm?   \n",
       "1                                             Translate.   \n",
       "2                                                Faster.   \n",
       "3                                                  Kiss!   \n",
       "4                                              Please...   \n",
       "...                                                  ...   \n",
       "15856  My friend from university gave me a Kindle bec...   \n",
       "15857  In all the work I have done as President—every...   \n",
       "15858  The 26th of September is the European Day of L...   \n",
       "15859  While the Kabyle people were fighting French c...   \n",
       "15860  A person with second-level intelligence is a p...   \n",
       "\n",
       "                                              Vietnamese  \n",
       "0                                                    Hử?  \n",
       "1                                                  Dịch.  \n",
       "2                                             Nhanh hơn.  \n",
       "3                                                Hôn đi!  \n",
       "4                                               Đi mà...  \n",
       "...                                                  ...  \n",
       "15856  Một người bạn thời đại học đã cho tôi một cái ...  \n",
       "15857  Trong tất cả những công việc mà tôi đã làm với...  \n",
       "15858  Ngày 26 tháng chín là ngày Ngôn ngữ của Châu Â...  \n",
       "15859  Trong lúc những người Kabyle đang chiến đấu vớ...  \n",
       "15860  Người có trí tuệ tầng bậc 2 là người có trạng ...  \n",
       "\n",
       "[15861 rows x 2 columns]"
      ]
     },
     "execution_count": 6,
     "metadata": {},
     "output_type": "execute_result"
    }
   ],
   "source": [
    "def crawl_all(leng_max = 10):\n",
    "  engs_all, vies_all = [],[]\n",
    "  for e in range(1, leng_max + 1):\n",
    "    try:\n",
    "      engs, vies = crawl_data(leng_min = e, page_max = 100)\n",
    "      engs_all.extend(engs)\n",
    "      vies_all.extend(vies)\n",
    "    except Exception as ex:\n",
    "      print(f\"Error on at least {e} words: {ex}\")\n",
    "  df = pd.DataFrame({'English': engs_all, 'Vietnamese': vies_all})\n",
    "  return df\n",
    "\n",
    "df1 = crawl_all(20)\n",
    "df1.head(10)"
   ]
  },
  {
   "cell_type": "code",
   "execution_count": null,
   "metadata": {
    "id": "mXGrxFCqgbaw"
   },
   "outputs": [],
   "source": [
    "df1.to_csv(os.path.join(folder,\"tatoeba.csv\"), index= False)"
   ]
  },
  {
   "cell_type": "code",
   "execution_count": null,
   "metadata": {
    "colab": {
     "base_uri": "https://localhost:8080/"
    },
    "id": "sg0ofcluj9_F",
    "outputId": "9b5e5f76-9558-43b0-8490-cfb73f49ba7f"
   },
   "outputs": [
    {
     "data": {
      "text/plain": [
       "(15861, 2)"
      ]
     },
     "execution_count": 9,
     "metadata": {},
     "output_type": "execute_result"
    }
   ],
   "source": [
    "df1.shape"
   ]
  },
  {
   "cell_type": "markdown",
   "metadata": {
    "id": "6damwbwq3tHk"
   },
   "source": [
    "### **2. Download from Opus**"
   ]
  },
  {
   "cell_type": "markdown",
   "metadata": {
    "id": "sBuqTjra3-zW"
   },
   "source": [
    "please visit [Opus](https://opus.nlpl.eu/) to understand that in details\n"
   ]
  },
  {
   "cell_type": "markdown",
   "metadata": {},
   "source": [
    "Link download the file: https://object.pouta.csc.fi/OPUS-QED/v2.0a/moses/en-vi.txt.zip"
   ]
  },
  {
   "cell_type": "code",
   "execution_count": null,
   "metadata": {},
   "outputs": [],
   "source": [
    "des_file = os.path.join(folder,\"en_vi\")"
   ]
  },
  {
   "cell_type": "code",
   "execution_count": 19,
   "metadata": {
    "id": "jS_U9XHT9TcC"
   },
   "outputs": [
    {
     "name": "stdout",
     "output_type": "stream",
     "text": [
      "Files: ['README', 'LICENSE', 'QED.en-vi.en', 'QED.en-vi.vi', 'QED.en-vi.xml']\n"
     ]
    }
   ],
   "source": [
    "with zipfile.ZipFile(os.path.join(folder,\"en-vi.txt.zip\"), \"r\") as zip_ref:\n",
    "    zip_ref.extractall(des_file) \n",
    "    print(\"Files:\", zip_ref.namelist())"
   ]
  },
  {
   "cell_type": "code",
   "execution_count": 20,
   "metadata": {
    "colab": {
     "base_uri": "https://localhost:8080/",
     "height": 211
    },
    "id": "ttJwEigD9XRK",
    "outputId": "8066faf0-3d2d-485d-d6eb-d8b3e69e6020"
   },
   "outputs": [],
   "source": [
    "engs, vies = [],[]\n",
    "with open(os.path.join(des_file,\"QED.en-vi.en\"), \"r\", encoding=\"utf-8\") as f_en, \\\n",
    "    open(os.path.join(des_file,\"QED.en-vi.vi\"), \"r\", encoding=\"utf-8\") as f_vi:\n",
    "    \n",
    "    for i, (en_line, vi_line) in enumerate(zip(f_en, f_vi)):\n",
    "        en = en_line.strip()\n",
    "        engs.append(en)\n",
    "        \n",
    "        vi = vi_line.strip()\n",
    "        vies.append(vi)"
   ]
  },
  {
   "cell_type": "code",
   "execution_count": 21,
   "metadata": {
    "id": "yQh-5uip9lYQ"
   },
   "outputs": [
    {
     "name": "stdout",
     "output_type": "stream",
     "text": [
      "eng sentence: It should print 12, and 3 plus 4 plus 5 with all the spaces.\n",
      "viet sentence: Nó sẽ in ra 12, và 3 + 4 + 5 với tất cả các khoảng trắng.\n",
      "\n",
      "eng sentence: This might have been different from what you expected.\n",
      "viet sentence: Điều này có lẽ khác với những gì bạn mong đợi.\n",
      "\n",
      "eng sentence: We didn't use quotation marks here.\n",
      "viet sentence: Chúng ta không sử dụng dấu ngoặc kép ở đây.\n",
      "\n",
      "eng sentence: The quotation marks mark literal text.\n",
      "viet sentence: Dấu ngoặc kép dùng để đánh dấu văn bản.\n",
      "\n",
      "eng sentence: If we use quotes, it means that we want to write 3 plus 4 plus 5 as it is.\n",
      "viet sentence: Nếu ta sử dụng ngoặc kép, điều đó có nghĩa là chúng ta muốn viết ra nguyên văn 3 + 4 + 5.\n",
      "\n",
      "eng sentence: But when we don;t use quotes, the computer reads 3 plus 4 plus 5 as numbers.\n",
      "viet sentence: Ngược lại, nếu chúng ta không dùng dấu ngoặc, máy tính xem 3 + 4 + 5 như những con số.\n",
      "\n",
      "eng sentence: It knows how to add the numbers, so it added the numbers and then it printed the result as you can see here.\n",
      "viet sentence: Nó biết cách để thực hiện phép cộng, vì vậy nó cộng các con số lại với nhau sau đó in ra kết quả.\n",
      "\n",
      "eng sentence: You can use system.out.println to print numbers and text\n",
      "viet sentence: Bạn có thể dùng System.out.println để in số và văn bản\n",
      "\n",
      "eng sentence: You might think you know a lot about Native Americans through popular movies, books, and classes in school, but it turns out that a lot of what we think we know about famous Native American figures isn't quite right.\n",
      "viet sentence: Bạn có thể nghĩ rằng mình biết rất nhiều về người Mỹ bản địa qua các bộ phim phổ biến, sách, và lớp học ở trường, nhưng điều đó chỉ ra rằng rất nhiều thứ chúng ta nghĩ rằng mình biết về nhân vật nổi tiếng người Mỹ bản xứ không hẳn đã đúng.\n",
      "\n",
      "eng sentence: Take Sacajawea for example.\n",
      "viet sentence: Lấy Sacajawea làm ví dụ.\n",
      "\n"
     ]
    }
   ],
   "source": [
    "for i in range(10):\n",
    "    print(f\"eng sentence: {engs[i]}\\nviet sentence: {vies[i]}\\n\") "
   ]
  },
  {
   "cell_type": "code",
   "execution_count": 22,
   "metadata": {},
   "outputs": [
    {
     "data": {
      "text/plain": [
       "338024"
      ]
     },
     "execution_count": 22,
     "metadata": {},
     "output_type": "execute_result"
    }
   ],
   "source": [
    "len(engs)"
   ]
  },
  {
   "cell_type": "code",
   "execution_count": null,
   "metadata": {},
   "outputs": [],
   "source": [
    "df2 = pd.DataFrame(\n",
    "    {'English': engs, 'Vietnamese': vies}\n",
    ")"
   ]
  },
  {
   "cell_type": "code",
   "execution_count": 24,
   "metadata": {},
   "outputs": [
    {
     "data": {
      "text/html": [
       "<div>\n",
       "<style scoped>\n",
       "    .dataframe tbody tr th:only-of-type {\n",
       "        vertical-align: middle;\n",
       "    }\n",
       "\n",
       "    .dataframe tbody tr th {\n",
       "        vertical-align: top;\n",
       "    }\n",
       "\n",
       "    .dataframe thead th {\n",
       "        text-align: right;\n",
       "    }\n",
       "</style>\n",
       "<table border=\"1\" class=\"dataframe\">\n",
       "  <thead>\n",
       "    <tr style=\"text-align: right;\">\n",
       "      <th></th>\n",
       "      <th>English</th>\n",
       "      <th>Vietnamese</th>\n",
       "    </tr>\n",
       "  </thead>\n",
       "  <tbody>\n",
       "    <tr>\n",
       "      <th>0</th>\n",
       "      <td>It should print 12, and 3 plus 4 plus 5 with a...</td>\n",
       "      <td>Nó sẽ in ra 12, và 3 + 4 + 5 với tất cả các kh...</td>\n",
       "    </tr>\n",
       "    <tr>\n",
       "      <th>1</th>\n",
       "      <td>This might have been different from what you e...</td>\n",
       "      <td>Điều này có lẽ khác với những gì bạn mong đợi.</td>\n",
       "    </tr>\n",
       "    <tr>\n",
       "      <th>2</th>\n",
       "      <td>We didn't use quotation marks here.</td>\n",
       "      <td>Chúng ta không sử dụng dấu ngoặc kép ở đây.</td>\n",
       "    </tr>\n",
       "    <tr>\n",
       "      <th>3</th>\n",
       "      <td>The quotation marks mark literal text.</td>\n",
       "      <td>Dấu ngoặc kép dùng để đánh dấu văn bản.</td>\n",
       "    </tr>\n",
       "    <tr>\n",
       "      <th>4</th>\n",
       "      <td>If we use quotes, it means that we want to wri...</td>\n",
       "      <td>Nếu ta sử dụng ngoặc kép, điều đó có nghĩa là ...</td>\n",
       "    </tr>\n",
       "  </tbody>\n",
       "</table>\n",
       "</div>"
      ],
      "text/plain": [
       "                                             English  \\\n",
       "0  It should print 12, and 3 plus 4 plus 5 with a...   \n",
       "1  This might have been different from what you e...   \n",
       "2                We didn't use quotation marks here.   \n",
       "3             The quotation marks mark literal text.   \n",
       "4  If we use quotes, it means that we want to wri...   \n",
       "\n",
       "                                          Vietnamese  \n",
       "0  Nó sẽ in ra 12, và 3 + 4 + 5 với tất cả các kh...  \n",
       "1     Điều này có lẽ khác với những gì bạn mong đợi.  \n",
       "2        Chúng ta không sử dụng dấu ngoặc kép ở đây.  \n",
       "3            Dấu ngoặc kép dùng để đánh dấu văn bản.  \n",
       "4  Nếu ta sử dụng ngoặc kép, điều đó có nghĩa là ...  "
      ]
     },
     "execution_count": 24,
     "metadata": {},
     "output_type": "execute_result"
    }
   ],
   "source": [
    "df2.head(5)"
   ]
  },
  {
   "cell_type": "code",
   "execution_count": 26,
   "metadata": {},
   "outputs": [],
   "source": [
    "df2.to_csv(os.path.join(folder,\"QED.csv\"), index=False)"
   ]
  }
 ],
 "metadata": {
  "colab": {
   "provenance": []
  },
  "kernelspec": {
   "display_name": "mle",
   "language": "python",
   "name": "python3"
  },
  "language_info": {
   "codemirror_mode": {
    "name": "ipython",
    "version": 3
   },
   "file_extension": ".py",
   "mimetype": "text/x-python",
   "name": "python",
   "nbconvert_exporter": "python",
   "pygments_lexer": "ipython3",
   "version": "3.10.16"
  }
 },
 "nbformat": 4,
 "nbformat_minor": 0
}
